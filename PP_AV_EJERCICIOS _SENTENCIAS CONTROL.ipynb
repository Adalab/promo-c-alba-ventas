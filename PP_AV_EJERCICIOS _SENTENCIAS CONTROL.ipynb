{
 "cells": [
  {
   "cell_type": "code",
   "execution_count": 135,
   "metadata": {},
   "outputs": [],
   "source": [
    "# ESTRUCTURAS DE SELECCIÓN\n",
    "    # if\n",
    "    # if....else\n",
    "    # if...elif...else"
   ]
  },
  {
   "cell_type": "code",
   "execution_count": 57,
   "metadata": {},
   "outputs": [],
   "source": [
    "# EJERCICIO 1 - Crea las siguientes variables:\n",
    "\n",
    "  #`var1` sea un número con el valor `8`.\n",
    "\n",
    "  #`var2` sea un número con el valor `2`.\n",
    "\n",
    "  #`var3` sea un número con el valor `8`."
   ]
  },
  {
   "cell_type": "code",
   "execution_count": 58,
   "metadata": {},
   "outputs": [],
   "source": [
    "# crea las siguientes variables\n",
    "var1=8\n",
    "var2=2\n",
    "var3=4"
   ]
  },
  {
   "cell_type": "code",
   "execution_count": 59,
   "metadata": {},
   "outputs": [],
   "source": [
    "#  EJERCICIO 2 -Comprueba si `var1` es mayor que 6, y si es así imprime `¡Es enorme!`."
   ]
  },
  {
   "cell_type": "code",
   "execution_count": 60,
   "metadata": {},
   "outputs": [
    {
     "name": "stdout",
     "output_type": "stream",
     "text": [
      " es enorme\n"
     ]
    }
   ],
   "source": [
    "if var1 > 6:\n",
    "    print(' es enorme')"
   ]
  },
  {
   "cell_type": "code",
   "execution_count": 61,
   "metadata": {},
   "outputs": [],
   "source": [
    "# EJERCIO 3- Comprueba si `var2` es mayor que 6, y si es así imprime `¡Es enorme también!`."
   ]
  },
  {
   "cell_type": "code",
   "execution_count": 62,
   "metadata": {},
   "outputs": [],
   "source": [
    "if var2 >6:\n",
    "    print('es enorme tambien')"
   ]
  },
  {
   "cell_type": "code",
   "execution_count": 63,
   "metadata": {},
   "outputs": [],
   "source": [
    "\n",
    "# EJERCICIO 4 - Comprueba si `var3` es mayor que 6, y si es así imprime `¡Es enorme!` seguido por `¡Pero de verdad!` en otra línea (deberéis tener dos *print*)."
   ]
  },
  {
   "cell_type": "code",
   "execution_count": 64,
   "metadata": {},
   "outputs": [],
   "source": [
    "if var3>6:\n",
    "    print('es enorme')\n",
    "    print('es enorme tambien')"
   ]
  },
  {
   "cell_type": "code",
   "execution_count": 65,
   "metadata": {},
   "outputs": [],
   "source": [
    "# EJERCICIO 5- Comprueba si `var1` es igual que `var3`, y si es así imprime `Son iguales."
   ]
  },
  {
   "cell_type": "code",
   "execution_count": 66,
   "metadata": {},
   "outputs": [],
   "source": [
    "if var1 == var3:\n",
    "    print('son iguales')"
   ]
  },
  {
   "cell_type": "code",
   "execution_count": 67,
   "metadata": {},
   "outputs": [],
   "source": [
    "\n",
    "# ejercico 6. Comprueba si `var1` es igual que `var2`, y si es así imprime `Son iguales."
   ]
  },
  {
   "cell_type": "code",
   "execution_count": 68,
   "metadata": {},
   "outputs": [
    {
     "name": "stdout",
     "output_type": "stream",
     "text": [
      "no son iguales\n"
     ]
    }
   ],
   "source": [
    "if var1 == var2:\n",
    "    print('son iguales')\n",
    "else:\n",
    "    print('no son iguales')"
   ]
  },
  {
   "cell_type": "code",
   "execution_count": 69,
   "metadata": {},
   "outputs": [],
   "source": [
    "# EJERCICIO 7 - Comprueba si `var1` es mayor o igual que `var2`, y si es así calcula la diferencia entre `var1` y `var2`, guardala en la variable `dif`, e imprime `'La diferencia es',dif`."
   ]
  },
  {
   "cell_type": "code",
   "execution_count": 70,
   "metadata": {},
   "outputs": [
    {
     "name": "stdout",
     "output_type": "stream",
     "text": [
      "6\n"
     ]
    }
   ],
   "source": [
    "if var1 > var2:\n",
    "  diferencia= var1 - var2\n",
    "  print(diferencia)\n",
    "    "
   ]
  },
  {
   "cell_type": "code",
   "execution_count": 71,
   "metadata": {},
   "outputs": [],
   "source": [
    "# EJERCICIO 8 - 8. Comprueba si `var1` es mayor que 6, y si es así imprime `¡Es enorme!`. Si no es así imprime `Es chiquitín."
   ]
  },
  {
   "cell_type": "code",
   "execution_count": 72,
   "metadata": {},
   "outputs": [
    {
     "name": "stdout",
     "output_type": "stream",
     "text": [
      "8\n",
      "4\n"
     ]
    }
   ],
   "source": [
    "print(var1)\n",
    "print(var3)"
   ]
  },
  {
   "cell_type": "code",
   "execution_count": 73,
   "metadata": {},
   "outputs": [
    {
     "name": "stdout",
     "output_type": "stream",
     "text": [
      "es chiquitin\n"
     ]
    }
   ],
   "source": [
    "if var1==var3:\n",
    "     print('es enorme')\n",
    "else:\n",
    "     print('es chiquitin')"
   ]
  },
  {
   "cell_type": "code",
   "execution_count": 74,
   "metadata": {},
   "outputs": [],
   "source": [
    "# EJERCICIO 8 -Comprueba si `var1` es mayor que 6, y si es así imprime `¡Es enorme!`. Si no es así imprime `Es chiquitín."
   ]
  },
  {
   "cell_type": "code",
   "execution_count": 75,
   "metadata": {},
   "outputs": [
    {
     "name": "stdout",
     "output_type": "stream",
     "text": [
      "es enorme tambien\n"
     ]
    }
   ],
   "source": [
    "if var1>6:\n",
    "    print('es enorme tambien')\n",
    "else:\n",
    "    print('es chiquitien tambien')\n",
    "    "
   ]
  },
  {
   "cell_type": "code",
   "execution_count": 76,
   "metadata": {},
   "outputs": [],
   "source": [
    " # EJERCICIO 9-  Comprueba si `var2` es mayor que 6, y si es así imprime `¡Es enorme también!`. Si no es así imprime `Es chiquitín también.`."
   ]
  },
  {
   "cell_type": "code",
   "execution_count": 77,
   "metadata": {},
   "outputs": [
    {
     "name": "stdout",
     "output_type": "stream",
     "text": [
      "es chiquitin tambien\n"
     ]
    }
   ],
   "source": [
    "if var2>6:\n",
    "    print('es enorme tambien')\n",
    "else:\n",
    "    print('es chiquitin tambien')"
   ]
  },
  {
   "cell_type": "code",
   "execution_count": 78,
   "metadata": {},
   "outputs": [],
   "source": [
    "# EJERCICIO 11. Escribe un programa para una empresa que tiene salas de juegos para todas las edades y quiere calcular de forma automática el precio que debe cobrar a sus clientes por entrar. El programa debe preguntar al usuario:\n",
    "\n",
    "    # La edad del cliente. \n",
    "    # Las condiciones que tendremos que chequear: \n",
    "\n",
    "  #Si el cliente es menor de 4 años puede entrar gratis, \n",
    "\n",
    "  #Si tiene entre 4 y 18 años debe pagar 5€ y \n",
    "\n",
    "  # Si es mayor de 18 años, 10€."
   ]
  },
  {
   "cell_type": "code",
   "execution_count": 79,
   "metadata": {},
   "outputs": [],
   "source": [
    "# CON ESTA ESTRUCTURA PREGUNTAMOS QUE EDAD TIENE AL CLIENTE\n",
    "edad= int(input('dime tu edad'))"
   ]
  },
  {
   "cell_type": "code",
   "execution_count": 80,
   "metadata": {},
   "outputs": [
    {
     "data": {
      "text/plain": [
       "4"
      ]
     },
     "execution_count": 80,
     "metadata": {},
     "output_type": "execute_result"
    }
   ],
   "source": [
    "edad"
   ]
  },
  {
   "cell_type": "code",
   "execution_count": 81,
   "metadata": {},
   "outputs": [
    {
     "data": {
      "text/plain": [
       "int"
      ]
     },
     "execution_count": 81,
     "metadata": {},
     "output_type": "execute_result"
    }
   ],
   "source": [
    "type(edad)"
   ]
  },
  {
   "cell_type": "code",
   "execution_count": 82,
   "metadata": {},
   "outputs": [],
   "source": [
    "if edad < 4:\n",
    "    print('gratis')"
   ]
  },
  {
   "cell_type": "code",
   "execution_count": 83,
   "metadata": {},
   "outputs": [],
   "source": [
    "if edad < 4:\n",
    "    print('gratis')\n",
    "elif edad >4 <18:\n",
    "    print('5 euros')"
   ]
  },
  {
   "cell_type": "code",
   "execution_count": 84,
   "metadata": {},
   "outputs": [],
   "source": [
    "if edad > 18:\n",
    "    print('10 euros')"
   ]
  },
  {
   "cell_type": "markdown",
   "metadata": {},
   "source": [
    " 15. Crea un programa que evalúe el nivel de contaminación del aire en función de la concentración de partículas en suspensión (PM2.5) en microgramos por metro cúbico (µg/m³). Para eso deberás: \n",
    "\n",
    "  - Solicita al usuario que ingrese la concentración de PM2.5 en el aire en µg/m³. El usuario debe ingresar un valor numérico.\n",
    "\n",
    "  - Evalua el nivel de contaminación del aire según la siguiente escala:\n",
    "\n",
    "    - Si la concentración de PM2.5 es menor o igual a 12 µg/m³, el aire se considera \"Excelente\".\n",
    "\n",
    "    - Si la concentración de PM2.5 está entre 13 µg/m³ y 35 µg/m³, el aire se considera \"Bueno\".\n",
    "\n",
    "    - Si la concentración de PM2.5 está entre 36 µg/m³ y 55 µg/m³, el aire se considera \"Aceptable\".\n",
    "\n",
    "    - Si la concentración de PM2.5 está entre 56 µg/m³ y 150 µg/m³, el aire se considera \"No Saludable para Grupos Sensibles\".\n",
    "\n",
    "    - Si la concentración de PM2.5 es mayor a 150 µg/m³, el aire se considera \"No Saludable\".\n",
    "\n",
    "  - Muestra un mensaje indicando el estado de la calidad del aire. Por ejemplo, si la concentración de PM2.5 es 25 µg/m³, el programa debe mostrar: \"La calidad del aire es Buena\".\n",
    "\n",
    "  -  Además, si la concentración de PM2.5 está en la categoría \"No Saludable para Grupos Sensibles\" o \"No Saludable\", el programa debe advertir al usuario sobre los posibles efectos en la salud.\n",
    "\n",
    "  - Si la concentración ingresada por el usuario es negativa o no es un número válido, el programa debe mostrar un mensaje de error."
   ]
  },
  {
   "cell_type": "code",
   "execution_count": 123,
   "metadata": {},
   "outputs": [],
   "source": [
    "# definimos la pregunta que queremos hacer a los usarios e introducimos el valor\n",
    "particulas_ss=int(input('¿concentracion de particulas en suspensión'))"
   ]
  },
  {
   "cell_type": "code",
   "execution_count": 131,
   "metadata": {},
   "outputs": [
    {
     "name": "stdout",
     "output_type": "stream",
     "text": [
      "excelente\n"
     ]
    }
   ],
   "source": [
    "if particulas_ss<=12:\n",
    "    print('excelente')"
   ]
  },
  {
   "cell_type": "code",
   "execution_count": 91,
   "metadata": {},
   "outputs": [
    {
     "name": "stdout",
     "output_type": "stream",
     "text": [
      "bueno\n"
     ]
    }
   ],
   "source": [
    "if particulas_ss >13 <35:\n",
    "    print('bueno')"
   ]
  },
  {
   "cell_type": "code",
   "execution_count": 129,
   "metadata": {},
   "outputs": [],
   "source": [
    "if particulas_ss >56 <150:\n",
    "    print('aceptable')"
   ]
  },
  {
   "cell_type": "code",
   "execution_count": 128,
   "metadata": {},
   "outputs": [],
   "source": [
    "if particulas_ss >150:\n",
    "    print('no saludable')"
   ]
  },
  {
   "cell_type": "code",
   "execution_count": 127,
   "metadata": {},
   "outputs": [
    {
     "name": "stdout",
     "output_type": "stream",
     "text": [
      "25\n"
     ]
    }
   ],
   "source": [
    "parametro = 25\n",
    "print(parametro)\n"
   ]
  },
  {
   "cell_type": "code",
   "execution_count": 126,
   "metadata": {},
   "outputs": [
    {
     "data": {
      "text/plain": [
       "int"
      ]
     },
     "execution_count": 126,
     "metadata": {},
     "output_type": "execute_result"
    }
   ],
   "source": [
    "type(parametro)"
   ]
  },
  {
   "cell_type": "code",
   "execution_count": 125,
   "metadata": {},
   "outputs": [],
   "source": [
    "if particulas_ss >13 <35:\n",
    "    print('la calidad del aire es buena y es:',parametro)"
   ]
  },
  {
   "cell_type": "code",
   "execution_count": 124,
   "metadata": {},
   "outputs": [],
   "source": [
    "if particulas_ss in ['no saludable', 'o no saludable grupos sensibles']:\n",
    "    print('advertencia efectos adversos')"
   ]
  },
  {
   "cell_type": "code",
   "execution_count": null,
   "metadata": {},
   "outputs": [],
   "source": []
  }
 ],
 "metadata": {
  "kernelspec": {
   "display_name": "base",
   "language": "python",
   "name": "python3"
  },
  "language_info": {
   "codemirror_mode": {
    "name": "ipython",
    "version": 3
   },
   "file_extension": ".py",
   "mimetype": "text/x-python",
   "name": "python",
   "nbconvert_exporter": "python",
   "pygments_lexer": "ipython3",
   "version": "3.11.5"
  }
 },
 "nbformat": 4,
 "nbformat_minor": 2
}
